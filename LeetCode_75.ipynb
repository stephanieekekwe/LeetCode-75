{
  "nbformat": 4,
  "nbformat_minor": 0,
  "metadata": {
    "colab": {
      "name": "LeetCode 75",
      "provenance": [],
      "authorship_tag": "ABX9TyNg+/caZa9cGJb1vsuKrWa+"
    },
    "kernelspec": {
      "name": "python3",
      "display_name": "Python 3"
    },
    "language_info": {
      "name": "python"
    }
  },
  "cells": [
    {
      "cell_type": "markdown",
      "source": [
        "## Day 1"
      ],
      "metadata": {
        "id": "ChaGLn6h4gN-"
      }
    },
    {
      "cell_type": "markdown",
      "source": [
        "Question 1480 **Running Sum of 1d Array**\n",
        "\n",
        "Given an array nums. We define a running sum of an array as `runningSum[i] = sum(nums[0]…nums[i])`.\n",
        "\n",
        "Return the running sum of nums.\n",
        "\n",
        "\n",
        "```\n",
        "Example 1:\n",
        "\n",
        "Input: nums = [1,2,3,4]\n",
        "\n",
        "Output: [1,3,6,10]\n",
        "\n",
        "Explanation: Running sum is obtained as follows: [1, 1+2, 1+2+3, 1+2+3+4].\n",
        "```\n",
        "\n"
      ],
      "metadata": {
        "id": "y5OtJ5HDzgDQ"
      }
    },
    {
      "cell_type": "code",
      "execution_count": 2,
      "metadata": {
        "id": "KoqftXL7yXIw"
      },
      "outputs": [],
      "source": [
        "def runningSum(nums):\n",
        "    return [sum(nums[:i]) for i in range(1, len(nums)+1)]"
      ]
    },
    {
      "cell_type": "code",
      "source": [
        "#test\n",
        "nums = [1,2,3,4]\n",
        "runningSum(nums)"
      ],
      "metadata": {
        "colab": {
          "base_uri": "https://localhost:8080/"
        },
        "id": "xhlBzXwB0Rsa",
        "outputId": "74b5ba3c-9d50-478f-8766-86417ecbd6a6"
      },
      "execution_count": 3,
      "outputs": [
        {
          "output_type": "execute_result",
          "data": {
            "text/plain": [
              "[1, 3, 6, 10]"
            ]
          },
          "metadata": {},
          "execution_count": 3
        }
      ]
    },
    {
      "cell_type": "markdown",
      "source": [
        "Question 724 **Find Pivot Index**\n",
        "\n",
        "Given an array of integers `nums`, calculate the pivot index of this array.\n",
        "\n",
        "The pivot index is the index where the sum of all the numbers strictly to the left of the index is equal to the sum of all the numbers strictly to the index's right.\n",
        "\n",
        "If the index is on the left edge of the array, then the left sum is 0 because there are no elements to the left. This also applies to the right edge of the array.\n",
        "\n",
        "Return the leftmost pivot index. If no such index exists, return -1.\n",
        "\n",
        "\n",
        "```\n",
        "Example 1:\n",
        "\n",
        "Input: `nums = [1,7,3,6,5,6]`\n",
        "Output: 3\n",
        "Explanation:\n",
        "The pivot index is 3.\n",
        "\n",
        "Left sum = nums[0] + nums[1] + nums[2] = 1 + 7 + 3 = 11\n",
        "Right sum = nums[4] + nums[5] = 5 + 6 = 11\n",
        "```\n",
        "\n"
      ],
      "metadata": {
        "id": "fDAAOF9T4ew_"
      }
    },
    {
      "cell_type": "code",
      "source": [
        "def pivotIndex(nums):\n",
        "    total = sum(nums)\n",
        "    left = 0\n",
        "    for idx,num in enumerate(nums):\n",
        "        if left == total - left - num:\n",
        "            return idx\n",
        "        left += num\n",
        "                    \n",
        "    return -1"
      ],
      "metadata": {
        "id": "UpSPMTsi0g5-"
      },
      "execution_count": 88,
      "outputs": []
    },
    {
      "cell_type": "code",
      "source": [
        "#test\n",
        "nums = [1,7,3,6,5,6]\n",
        "pivotIndex(nums)"
      ],
      "metadata": {
        "colab": {
          "base_uri": "https://localhost:8080/"
        },
        "id": "6xWrGgGf7hlY",
        "outputId": "17496331-32d1-4bff-bb56-5f103df79c14"
      },
      "execution_count": 89,
      "outputs": [
        {
          "output_type": "execute_result",
          "data": {
            "text/plain": [
              "3"
            ]
          },
          "metadata": {},
          "execution_count": 89
        }
      ]
    },
    {
      "cell_type": "code",
      "source": [],
      "metadata": {
        "id": "n12BNdS6B06M"
      },
      "execution_count": null,
      "outputs": []
    }
  ]
}