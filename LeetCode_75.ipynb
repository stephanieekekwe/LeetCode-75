{
  "nbformat": 4,
  "nbformat_minor": 0,
  "metadata": {
    "colab": {
      "name": "LeetCode 75",
      "provenance": [],
      "authorship_tag": "ABX9TyPNBfo9QiXrvQAAgu3VjAO9"
    },
    "kernelspec": {
      "name": "python3",
      "display_name": "Python 3"
    },
    "language_info": {
      "name": "python"
    }
  },
  "cells": [
    {
      "cell_type": "markdown",
      "source": [
        "### Day 1\n",
        "#### 1480 **Running Sum of 1d Array**\n",
        "Given an array nums. We define a running sum of an array as `runningSum[i] = sum(nums[0]…nums[i])`.\n",
        "\n",
        "Return the running sum of nums.\n",
        "\n",
        " \n",
        "\n",
        "Example 1:\n",
        "\n",
        "Input: `nums = [1,2,3,4]`\n",
        "\n",
        "Output: `[1,3,6,10]`\n",
        "\n",
        "Explanation: Running sum is obtained as follows: `[1, 1+2, 1+2+3, 1+2+3+4]`."
      ],
      "metadata": {
        "id": "y5OtJ5HDzgDQ"
      }
    },
    {
      "cell_type": "code",
      "execution_count": 2,
      "metadata": {
        "id": "KoqftXL7yXIw"
      },
      "outputs": [],
      "source": [
        "def runningSum(nums):\n",
        "    return [sum(nums[:i]) for i in range(1, len(nums)+1)]"
      ]
    },
    {
      "cell_type": "code",
      "source": [
        "#test\n",
        "nums = [1,2,3,4]\n",
        "runningSum(nums)"
      ],
      "metadata": {
        "colab": {
          "base_uri": "https://localhost:8080/"
        },
        "id": "xhlBzXwB0Rsa",
        "outputId": "74b5ba3c-9d50-478f-8766-86417ecbd6a6"
      },
      "execution_count": 3,
      "outputs": [
        {
          "output_type": "execute_result",
          "data": {
            "text/plain": [
              "[1, 3, 6, 10]"
            ]
          },
          "metadata": {},
          "execution_count": 3
        }
      ]
    },
    {
      "cell_type": "code",
      "source": [],
      "metadata": {
        "id": "UpSPMTsi0g5-"
      },
      "execution_count": null,
      "outputs": []
    }
  ]
}