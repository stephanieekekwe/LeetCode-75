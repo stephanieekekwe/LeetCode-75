{
  "nbformat": 4,
  "nbformat_minor": 0,
  "metadata": {
    "colab": {
      "name": "LeetCode 75",
      "provenance": [],
      "authorship_tag": "ABX9TyMiG99I/iI1xW94ILafhHw7",
      "include_colab_link": true
    },
    "kernelspec": {
      "name": "python3",
      "display_name": "Python 3"
    },
    "language_info": {
      "name": "python"
    }
  },
  "cells": [
    {
      "cell_type": "markdown",
      "metadata": {
        "id": "view-in-github",
        "colab_type": "text"
      },
      "source": [
        "<a href=\"https://colab.research.google.com/github/stephanieekekwe/LeetCode-75/blob/main/LeetCode_75.ipynb\" target=\"_parent\"><img src=\"https://colab.research.google.com/assets/colab-badge.svg\" alt=\"Open In Colab\"/></a>"
      ]
    },
    {
      "cell_type": "markdown",
      "source": [
        "## Day 1"
      ],
      "metadata": {
        "id": "ChaGLn6h4gN-"
      }
    },
    {
      "cell_type": "markdown",
      "source": [
        "Question 1480 **Running Sum of 1d Array**\n",
        "\n",
        "Given an array nums. We define a running sum of an array as `runningSum[i] = sum(nums[0]…nums[i])`.\n",
        "\n",
        "Return the running sum of nums.\n",
        "\n",
        "\n",
        "```\n",
        "Example 1:\n",
        "\n",
        "Input: nums = [1,2,3,4]\n",
        "\n",
        "Output: [1,3,6,10]\n",
        "\n",
        "Explanation: Running sum is obtained as follows: [1, 1+2, 1+2+3, 1+2+3+4].\n",
        "```\n",
        "\n"
      ],
      "metadata": {
        "id": "y5OtJ5HDzgDQ"
      }
    },
    {
      "cell_type": "code",
      "execution_count": 1,
      "metadata": {
        "id": "KoqftXL7yXIw"
      },
      "outputs": [],
      "source": [
        "def runningSum(nums):\n",
        "    return [sum(nums[:i]) for i in range(1, len(nums)+1)]"
      ]
    },
    {
      "cell_type": "code",
      "source": [
        "#test\n",
        "nums = [1,2,3,4]\n",
        "runningSum(nums)"
      ],
      "metadata": {
        "colab": {
          "base_uri": "https://localhost:8080/"
        },
        "id": "xhlBzXwB0Rsa",
        "outputId": "a0a5e6ba-4352-4e02-f7ab-eedecab0a0ff"
      },
      "execution_count": 2,
      "outputs": [
        {
          "output_type": "execute_result",
          "data": {
            "text/plain": [
              "[1, 3, 6, 10]"
            ]
          },
          "metadata": {},
          "execution_count": 2
        }
      ]
    },
    {
      "cell_type": "markdown",
      "source": [
        "Question 724 **Find Pivot Index**\n",
        "\n",
        "Given an array of integers `nums`, calculate the pivot index of this array.\n",
        "\n",
        "The pivot index is the index where the sum of all the numbers strictly to the left of the index is equal to the sum of all the numbers strictly to the index's right.\n",
        "\n",
        "If the index is on the left edge of the array, then the left sum is 0 because there are no elements to the left. This also applies to the right edge of the array.\n",
        "\n",
        "Return the leftmost pivot index. If no such index exists, return -1.\n",
        "\n",
        "\n",
        "```\n",
        "Example 1:\n",
        "\n",
        "Input: `nums = [1,7,3,6,5,6]`\n",
        "Output: 3\n",
        "Explanation:\n",
        "The pivot index is 3.\n",
        "\n",
        "Left sum = nums[0] + nums[1] + nums[2] = 1 + 7 + 3 = 11\n",
        "Right sum = nums[4] + nums[5] = 5 + 6 = 11\n",
        "```\n",
        "\n"
      ],
      "metadata": {
        "id": "fDAAOF9T4ew_"
      }
    },
    {
      "cell_type": "code",
      "source": [
        "def pivotIndex(nums):\n",
        "    total = sum(nums)\n",
        "    left = 0\n",
        "    for idx,num in enumerate(nums):\n",
        "        if left == total - left - num:\n",
        "            return idx\n",
        "        left += num\n",
        "                    \n",
        "    return -1"
      ],
      "metadata": {
        "id": "UpSPMTsi0g5-"
      },
      "execution_count": 3,
      "outputs": []
    },
    {
      "cell_type": "code",
      "source": [
        "#test\n",
        "nums = [1,7,3,6,5,6]\n",
        "pivotIndex(nums)"
      ],
      "metadata": {
        "colab": {
          "base_uri": "https://localhost:8080/"
        },
        "id": "6xWrGgGf7hlY",
        "outputId": "0df3d1b7-57c0-4bc6-d63a-57f1b4a86b72"
      },
      "execution_count": 4,
      "outputs": [
        {
          "output_type": "execute_result",
          "data": {
            "text/plain": [
              "3"
            ]
          },
          "metadata": {},
          "execution_count": 4
        }
      ]
    },
    {
      "cell_type": "markdown",
      "source": [
        "## Day 2"
      ],
      "metadata": {
        "id": "PYSFd7po6EZH"
      }
    },
    {
      "cell_type": "markdown",
      "source": [
        "Question 205. **Isomorphic Strings**\n",
        "Given two strings `s` and `t`, determine if they are isomorphic.\n",
        "\n",
        "Two strings `s` and `t` are isomorphic if the characters in `s` can be replaced to get `t`.\n",
        "\n",
        "All occurrences of a character must be replaced with another character while preserving the order of characters. No two characters may map to the same character, but a character may map to itself.\n",
        "\n",
        "```\n",
        "Example 1:\n",
        "\n",
        "Input: s = \"egg\", t = \"add\"\n",
        "Output: true\n",
        "\n",
        "Example 2:\n",
        "\n",
        "Input: s = \"axc\", t = \"ahbgdc\"\n",
        "Output: false\n",
        "```"
      ],
      "metadata": {
        "id": "FNIx8HFqSBh0"
      }
    },
    {
      "cell_type": "code",
      "source": [
        "def isIsomorphic(s: str, t: str):\n",
        "    def gettPattern(string): \n",
        "        patter_mapping = {}\n",
        "        new_str = []\n",
        "\n",
        "        for i, c in enumerate(string):\n",
        "            if c not in patter_mapping:\n",
        "                patter_mapping[c] = i\n",
        "            new_str.append(str(patter_mapping[c]))\n",
        "        return \" \".join(new_str)\n",
        "    \n",
        "    return gettPattern(s) == gettPattern(t)"
      ],
      "metadata": {
        "id": "n12BNdS6B06M"
      },
      "execution_count": 72,
      "outputs": []
    },
    {
      "cell_type": "code",
      "source": [
        "# test\n",
        "s = \"bbbaaaba\"\n",
        "t = \"aaabbbba\"\n",
        "isIsomorphic(s,t)"
      ],
      "metadata": {
        "colab": {
          "base_uri": "https://localhost:8080/"
        },
        "id": "dRAx2x0f9P5T",
        "outputId": "df47f2a4-3c31-4130-8a2f-c5812cfc96f5"
      },
      "execution_count": 73,
      "outputs": [
        {
          "output_type": "execute_result",
          "data": {
            "text/plain": [
              "False"
            ]
          },
          "metadata": {},
          "execution_count": 73
        }
      ]
    },
    {
      "cell_type": "markdown",
      "source": [
        "Question 392. **Is Subsequence**\n",
        "Given two strings s and t, return true if s is a subsequence of t, or false otherwise.\n",
        "\n",
        "A subsequence of a string is a new string that is formed from the original string by deleting some (can be none) of the characters without disturbing the relative positions of the remaining characters. (i.e., \"ace\" is a subsequence of \"abcde\" while \"aec\" is not).\n",
        "\n",
        "```\n",
        "Example 1:\n",
        "\n",
        "Input: s = \"abc\", t = \"ahbgdc\"\n",
        "Output: true\n",
        "```"
      ],
      "metadata": {
        "id": "mrWtUHqsWIAY"
      }
    },
    {
      "cell_type": "code",
      "source": [
        "def isSubsequence(s: str, t: str):\n",
        "    \n",
        "    LEFT_BOUND, RIGHT_BOUND = len(s), len(t)\n",
        "\n",
        "    p_left = p_right = 0\n",
        "    while p_left < LEFT_BOUND and p_right < RIGHT_BOUND:\n",
        "        if s[p_left] == t[p_right]:\n",
        "            p_left += 1\n",
        "        p_right += 1\n",
        "\n",
        "    return p_left == LEFT_BOUND"
      ],
      "metadata": {
        "id": "jlTs0vOCPQ47"
      },
      "execution_count": 74,
      "outputs": []
    },
    {
      "cell_type": "code",
      "source": [
        "s = \"abc\"\n",
        "t = \"ahbgdc\"\n",
        "isSubsequence(s, t)"
      ],
      "metadata": {
        "colab": {
          "base_uri": "https://localhost:8080/"
        },
        "id": "4JZ2YCRLWYfW",
        "outputId": "2d3624bf-2bc2-4ba8-f65a-c644aff87543"
      },
      "execution_count": 75,
      "outputs": [
        {
          "output_type": "execute_result",
          "data": {
            "text/plain": [
              "True"
            ]
          },
          "metadata": {},
          "execution_count": 75
        }
      ]
    },
    {
      "cell_type": "markdown",
      "source": [
        "## Day 3"
      ],
      "metadata": {
        "id": "HH9hH-egtKJP"
      }
    },
    {
      "cell_type": "markdown",
      "source": [
        "Question 21. **Merge Two Sorted Lists**\n",
        "\n",
        "You are given the heads of two sorted linked lists list1 and list2.\n",
        "\n",
        "Merge the two lists in a one sorted list. The list should be made by splicing together the nodes of the first two lists.\n",
        "\n",
        "Return the head of the merged linked list."
      ],
      "metadata": {
        "id": "-K3Ab_DGAzVo"
      }
    },
    {
      "cell_type": "code",
      "source": [
        "# Definition for singly-linked list.\n",
        "class ListNode:\n",
        "    def __init__(self, val=0, next=None):\n",
        "        self.val = val\n",
        "        self.next = next\n",
        "\n",
        "class Solution:\n",
        "    def mergeTwoLists(self, list1: ListNode, list2: ListNode):\n",
        "        dummy = ListNode()\n",
        "        tail = dummy\n",
        "        \n",
        "        while list1 and list2:\n",
        "            if list1.val < list2.val:\n",
        "                tail.next = list1\n",
        "                list1 = list1.next\n",
        "            else:\n",
        "                tail.next = list2\n",
        "                list2 = list2.next\n",
        "            tail = tail.next\n",
        "            \n",
        "        if list1:\n",
        "            tail.next = list1\n",
        "        elif list2:\n",
        "            tail.next = list2\n",
        "\n",
        "        return dummy.next\n",
        "    \n"
      ],
      "metadata": {
        "id": "HcNXLCVCWhuY"
      },
      "execution_count": 13,
      "outputs": []
    },
    {
      "cell_type": "markdown",
      "source": [
        "Question 206. **Reverse Linked List**\n",
        "\n",
        "Given the head of a singly linked list, reverse the list, and return the reversed list.\n",
        "\n",
        "\n",
        "```\n",
        "Input: head = [1,2,3,4,5]\n",
        "Output: [5,4,3,2,1]\n",
        "```\n",
        "\n"
      ],
      "metadata": {
        "id": "ccxD-EmNPay1"
      }
    },
    {
      "cell_type": "code",
      "source": [
        "# This is an input class. Do not edit.\n",
        "class LinkedList:\n",
        "    def __init__(self, value):\n",
        "        self.value = value\n",
        "        self.next = None\n",
        "\n",
        "\n",
        "def reverseLinkedList(head):\n",
        "    p1, p2 = None, head\n",
        "        \n",
        "    while p2 is not None:\n",
        "        p3 = p2.next\n",
        "        p2.next = p1\n",
        "        p1 = p2\n",
        "        p2 = p3\n",
        "    return p1"
      ],
      "metadata": {
        "id": "jWNPYOxoPaYB"
      },
      "execution_count": 15,
      "outputs": []
    },
    {
      "cell_type": "code",
      "source": [],
      "metadata": {
        "id": "K9X_s3fhAVsb"
      },
      "execution_count": null,
      "outputs": []
    }
  ]
}