{
  "nbformat": 4,
  "nbformat_minor": 0,
  "metadata": {
    "colab": {
      "provenance": [],
      "authorship_tag": "ABX9TyNxYFz9sPJAp4IPTIPTYMNE"
    },
    "kernelspec": {
      "name": "python3",
      "display_name": "Python 3"
    },
    "language_info": {
      "name": "python"
    }
  },
  "cells": [
    {
      "cell_type": "markdown",
      "source": [
        "## Day 1"
      ],
      "metadata": {
        "id": "ChaGLn6h4gN-"
      }
    },
    {
      "cell_type": "markdown",
      "source": [
        "Question 1480 **Running Sum of 1d Array**\n",
        "\n",
        "Given an array nums. We define a running sum of an array as `runningSum[i] = sum(nums[0]…nums[i])`.\n",
        "\n",
        "Return the running sum of nums.\n",
        "\n",
        "\n",
        "```\n",
        "Example 1:\n",
        "\n",
        "Input: nums = [1,2,3,4]\n",
        "\n",
        "Output: [1,3,6,10]\n",
        "\n",
        "Explanation: Running sum is obtained as follows: [1, 1+2, 1+2+3, 1+2+3+4].\n",
        "```\n",
        "\n"
      ],
      "metadata": {
        "id": "y5OtJ5HDzgDQ"
      }
    },
    {
      "cell_type": "code",
      "execution_count": null,
      "metadata": {
        "id": "KoqftXL7yXIw"
      },
      "outputs": [],
      "source": [
        "def runningSum(nums):\n",
        "    return [sum(nums[:i]) for i in range(1, len(nums)+1)]"
      ]
    },
    {
      "cell_type": "code",
      "source": [
        "#test\n",
        "nums = [1,2,3,4]\n",
        "runningSum(nums)"
      ],
      "metadata": {
        "colab": {
          "base_uri": "https://localhost:8080/"
        },
        "id": "xhlBzXwB0Rsa",
        "outputId": "a0a5e6ba-4352-4e02-f7ab-eedecab0a0ff"
      },
      "execution_count": null,
      "outputs": [
        {
          "output_type": "execute_result",
          "data": {
            "text/plain": [
              "[1, 3, 6, 10]"
            ]
          },
          "metadata": {},
          "execution_count": 2
        }
      ]
    },
    {
      "cell_type": "markdown",
      "source": [
        "Question 724 **Find Pivot Index**\n",
        "\n",
        "Given an array of integers `nums`, calculate the pivot index of this array.\n",
        "\n",
        "The pivot index is the index where the sum of all the numbers strictly to the left of the index is equal to the sum of all the numbers strictly to the index's right.\n",
        "\n",
        "If the index is on the left edge of the array, then the left sum is 0 because there are no elements to the left. This also applies to the right edge of the array.\n",
        "\n",
        "Return the leftmost pivot index. If no such index exists, return -1.\n",
        "\n",
        "\n",
        "```\n",
        "Example 1:\n",
        "\n",
        "Input: `nums = [1,7,3,6,5,6]`\n",
        "Output: 3\n",
        "Explanation:\n",
        "The pivot index is 3.\n",
        "\n",
        "Left sum = nums[0] + nums[1] + nums[2] = 1 + 7 + 3 = 11\n",
        "Right sum = nums[4] + nums[5] = 5 + 6 = 11\n",
        "```\n",
        "\n"
      ],
      "metadata": {
        "id": "fDAAOF9T4ew_"
      }
    },
    {
      "cell_type": "code",
      "source": [
        "def pivotIndex(nums):\n",
        "    total = sum(nums)\n",
        "    left = 0\n",
        "    for idx,num in enumerate(nums):\n",
        "        if left == total - left - num:\n",
        "            return idx\n",
        "        left += num\n",
        "                    \n",
        "    return -1"
      ],
      "metadata": {
        "id": "UpSPMTsi0g5-"
      },
      "execution_count": null,
      "outputs": []
    },
    {
      "cell_type": "code",
      "source": [
        "#test\n",
        "nums = [1,7,3,6,5,6]\n",
        "pivotIndex(nums)"
      ],
      "metadata": {
        "colab": {
          "base_uri": "https://localhost:8080/"
        },
        "id": "6xWrGgGf7hlY",
        "outputId": "0df3d1b7-57c0-4bc6-d63a-57f1b4a86b72"
      },
      "execution_count": null,
      "outputs": [
        {
          "output_type": "execute_result",
          "data": {
            "text/plain": [
              "3"
            ]
          },
          "metadata": {},
          "execution_count": 4
        }
      ]
    },
    {
      "cell_type": "markdown",
      "source": [
        "## Day 2"
      ],
      "metadata": {
        "id": "PYSFd7po6EZH"
      }
    },
    {
      "cell_type": "markdown",
      "source": [
        "Question 205. **Isomorphic Strings**\n",
        "Given two strings `s` and `t`, determine if they are isomorphic.\n",
        "\n",
        "Two strings `s` and `t` are isomorphic if the characters in `s` can be replaced to get `t`.\n",
        "\n",
        "All occurrences of a character must be replaced with another character while preserving the order of characters. No two characters may map to the same character, but a character may map to itself.\n",
        "\n",
        "```\n",
        "Example 1:\n",
        "\n",
        "Input: s = \"egg\", t = \"add\"\n",
        "Output: true\n",
        "\n",
        "Example 2:\n",
        "\n",
        "Input: s = \"axc\", t = \"ahbgdc\"\n",
        "Output: false\n",
        "```"
      ],
      "metadata": {
        "id": "FNIx8HFqSBh0"
      }
    },
    {
      "cell_type": "code",
      "source": [
        "def isIsomorphic(s: str, t: str):\n",
        "    def gettPattern(string): \n",
        "        patter_mapping = {}\n",
        "        new_str = []\n",
        "\n",
        "        for i, c in enumerate(string):\n",
        "            if c not in patter_mapping:\n",
        "                patter_mapping[c] = i\n",
        "            new_str.append(str(patter_mapping[c]))\n",
        "        return \" \".join(new_str)\n",
        "    \n",
        "    return gettPattern(s) == gettPattern(t)"
      ],
      "metadata": {
        "id": "n12BNdS6B06M"
      },
      "execution_count": null,
      "outputs": []
    },
    {
      "cell_type": "code",
      "source": [
        "# test\n",
        "s = \"bbbaaaba\"\n",
        "t = \"aaabbbba\"\n",
        "isIsomorphic(s,t)"
      ],
      "metadata": {
        "colab": {
          "base_uri": "https://localhost:8080/"
        },
        "id": "dRAx2x0f9P5T",
        "outputId": "df47f2a4-3c31-4130-8a2f-c5812cfc96f5"
      },
      "execution_count": null,
      "outputs": [
        {
          "output_type": "execute_result",
          "data": {
            "text/plain": [
              "False"
            ]
          },
          "metadata": {},
          "execution_count": 73
        }
      ]
    },
    {
      "cell_type": "markdown",
      "source": [
        "Question 392. **Is Subsequence**\n",
        "Given two strings s and t, return true if s is a subsequence of t, or false otherwise.\n",
        "\n",
        "A subsequence of a string is a new string that is formed from the original string by deleting some (can be none) of the characters without disturbing the relative positions of the remaining characters. (i.e., \"ace\" is a subsequence of \"abcde\" while \"aec\" is not).\n",
        "\n",
        "```\n",
        "Example 1:\n",
        "\n",
        "Input: s = \"abc\", t = \"ahbgdc\"\n",
        "Output: true\n",
        "```"
      ],
      "metadata": {
        "id": "mrWtUHqsWIAY"
      }
    },
    {
      "cell_type": "code",
      "source": [
        "def isSubsequence(s: str, t: str):\n",
        "    \n",
        "    LEFT_BOUND, RIGHT_BOUND = len(s), len(t)\n",
        "\n",
        "    p_left = p_right = 0\n",
        "    while p_left < LEFT_BOUND and p_right < RIGHT_BOUND:\n",
        "        if s[p_left] == t[p_right]:\n",
        "            p_left += 1\n",
        "        p_right += 1\n",
        "\n",
        "    return p_left == LEFT_BOUND"
      ],
      "metadata": {
        "id": "jlTs0vOCPQ47"
      },
      "execution_count": null,
      "outputs": []
    },
    {
      "cell_type": "code",
      "source": [
        "s = \"abc\"\n",
        "t = \"ahbgdc\"\n",
        "isSubsequence(s, t)"
      ],
      "metadata": {
        "colab": {
          "base_uri": "https://localhost:8080/"
        },
        "id": "4JZ2YCRLWYfW",
        "outputId": "2d3624bf-2bc2-4ba8-f65a-c644aff87543"
      },
      "execution_count": null,
      "outputs": [
        {
          "output_type": "execute_result",
          "data": {
            "text/plain": [
              "True"
            ]
          },
          "metadata": {},
          "execution_count": 75
        }
      ]
    },
    {
      "cell_type": "markdown",
      "source": [
        "## Day 3"
      ],
      "metadata": {
        "id": "HH9hH-egtKJP"
      }
    },
    {
      "cell_type": "markdown",
      "source": [
        "Question 21. **Merge Two Sorted Lists**\n",
        "\n",
        "You are given the heads of two sorted linked lists list1 and list2.\n",
        "\n",
        "Merge the two lists in a one sorted list. The list should be made by splicing together the nodes of the first two lists.\n",
        "\n",
        "Return the head of the merged linked list."
      ],
      "metadata": {
        "id": "-K3Ab_DGAzVo"
      }
    },
    {
      "cell_type": "code",
      "source": [
        "# Definition for singly-linked list.\n",
        "class ListNode:\n",
        "    def __init__(self, val=0, next=None):\n",
        "        self.val = val\n",
        "        self.next = next\n",
        "\n",
        "class Solution:\n",
        "    def mergeTwoLists(self, list1: ListNode, list2: ListNode):\n",
        "        dummy = ListNode()\n",
        "        tail = dummy\n",
        "        \n",
        "        while list1 and list2:\n",
        "            if list1.val < list2.val:\n",
        "                tail.next = list1\n",
        "                list1 = list1.next\n",
        "            else:\n",
        "                tail.next = list2\n",
        "                list2 = list2.next\n",
        "            tail = tail.next\n",
        "            \n",
        "        if list1:\n",
        "            tail.next = list1\n",
        "        elif list2:\n",
        "            tail.next = list2\n",
        "\n",
        "        return dummy.next\n",
        "    \n"
      ],
      "metadata": {
        "id": "HcNXLCVCWhuY"
      },
      "execution_count": null,
      "outputs": []
    },
    {
      "cell_type": "markdown",
      "source": [
        "Question 206. **Reverse Linked List**\n",
        "\n",
        "Given the head of a singly linked list, reverse the list, and return the reversed list.\n",
        "\n",
        "\n",
        "```\n",
        "Input: head = [1,2,3,4,5]\n",
        "Output: [5,4,3,2,1]\n",
        "```\n",
        "\n"
      ],
      "metadata": {
        "id": "ccxD-EmNPay1"
      }
    },
    {
      "cell_type": "code",
      "source": [
        "# This is an input class. Do not edit.\n",
        "class LinkedList:\n",
        "    def __init__(self, value):\n",
        "        self.value = value\n",
        "        self.next = None\n",
        "\n",
        "\n",
        "def reverseLinkedList(head):\n",
        "    p1, p2 = None, head\n",
        "        \n",
        "    while p2 is not None:\n",
        "        p3 = p2.next\n",
        "        p2.next = p1\n",
        "        p1 = p2\n",
        "        p2 = p3\n",
        "    return p1"
      ],
      "metadata": {
        "id": "jWNPYOxoPaYB"
      },
      "execution_count": null,
      "outputs": []
    },
    {
      "cell_type": "markdown",
      "source": [
        "## Day 4"
      ],
      "metadata": {
        "id": "E8pgJW5KPAD4"
      }
    },
    {
      "cell_type": "markdown",
      "source": [
        "Question 876. **Middle of the Linked List**\n",
        "\n",
        "Given the head of a singly linked list, return the middle node of the linked list.\n",
        "\n",
        "If there are two middle nodes, return the second middle node.\n",
        "\n",
        "```\n",
        "Input: head = [1,2,3,4,5]\n",
        "Output: [3,4,5]\n",
        "Explanation: The middle node of the list is node 3.\n",
        "```\n",
        "\n"
      ],
      "metadata": {
        "id": "y4CyJnkqQIVy"
      }
    },
    {
      "cell_type": "code",
      "source": [
        "def middleNode(self, head):\n",
        "    if head.next == None:\n",
        "        return head\n",
        "    \n",
        "    cur_node=head\n",
        "    totalNodes=0\n",
        "    while cur_node.next!=None:\n",
        "        totalNodes+=1\n",
        "        cur_node=cur_node.next\n",
        "    \n",
        "    \n",
        "    cur_node=head\n",
        "    cur_idx = 0\n",
        "    if totalNodes % 2 != 0:\n",
        "        index = round(totalNodes//2) + 1\n",
        "    else:\n",
        "        index = round(totalNodes//2)\n",
        "        \n",
        "    while True and cur_node.next!=None:\n",
        "        prev = cur_node\n",
        "        cur_node=cur_node.next\n",
        "        if index == 1:\n",
        "            return cur_node\n",
        "        if cur_idx==index:\n",
        "            return prev\n",
        "        cur_idx+=1"
      ],
      "metadata": {
        "id": "K9X_s3fhAVsb"
      },
      "execution_count": null,
      "outputs": []
    },
    {
      "cell_type": "markdown",
      "source": [
        "Questioin 142. **Linked List Cycle II**\n",
        "\n",
        "Given the head of a linked list, return the node where the cycle begins. If there is no cycle, return null.\n",
        "\n",
        "There is a cycle in a linked list if there is some node in the list that can be reached again by continuously following the next pointer. Internally, pos is used to denote the index of the node that tail's next pointer is connected to (0-indexed). It is -1 if there is no cycle. Note that pos is not passed as a parameter.\n",
        "\n",
        "Do not modify the linked list.\n",
        "\n",
        "\n",
        "```\n",
        "Input: head = [3,2,0,-4], pos = 1\n",
        "Output: tail connects to node index 1\n",
        "Explanation: There is a cycle in the linked list, where tail connects to the second node.\n",
        "```\n",
        "\n"
      ],
      "metadata": {
        "id": "fNawKQH4vn9C"
      }
    },
    {
      "cell_type": "code",
      "source": [
        "def detectCycle(head):\n",
        "    visited = set()\n",
        "\n",
        "    node = head\n",
        "    while node is not None:\n",
        "        if node in visited:\n",
        "            return node\n",
        "        else:\n",
        "            visited.add(node)\n",
        "            node = node.next\n",
        "\n",
        "    return None"
      ],
      "metadata": {
        "id": "R3LURWQFjlrw"
      },
      "execution_count": null,
      "outputs": []
    },
    {
      "cell_type": "markdown",
      "source": [
        "## Day 5"
      ],
      "metadata": {
        "id": "PmvUYM0CTl_e"
      }
    },
    {
      "cell_type": "markdown",
      "source": [
        "Question 121. **Best Time to Buy and Sell Stock**\n",
        "\n",
        "You are given an array prices where prices[i] is the price of a given stock on the ith day.\n",
        "\n",
        "You want to maximize your profit by choosing a single day to buy one stock and choosing a different day in the future to sell that stock.\n",
        "\n",
        "Return the maximum profit you can achieve from this transaction. If you cannot achieve any profit, return 0.\n",
        "\n",
        "```\n",
        "Input: prices = [7,1,5,3,6,4]\n",
        "Output: 5\n",
        "Explanation: Buy on day 2 (price = 1) and sell on day 5 (price = 6), profit = 6-1 = 5.\n",
        "Note that buying on day 2 and selling on day 1 is not allowed because you must buy before you sell.\n",
        "```\n"
      ],
      "metadata": {
        "id": "cl_i6m4ZYAlM"
      }
    },
    {
      "cell_type": "code",
      "source": [
        "def maxProfit(prices):\n",
        "    min_p,max_p = float('inf'), 0\n",
        "    for p in prices:\n",
        "        min_p = min(min_p,p)\n",
        "        price = p-min_p\n",
        "        max_p = max(max_p,price)\n",
        "    return max_p"
      ],
      "metadata": {
        "id": "a6PO_XKYjnBb"
      },
      "execution_count": null,
      "outputs": []
    },
    {
      "cell_type": "markdown",
      "source": [
        "Question 409. **Longest Palindrome**\n",
        "\n",
        "Given a string s which consists of lowercase or uppercase letters, return the length of the longest palindrome that can be built with those letters.\n",
        "\n",
        "Letters are case sensitive, for example, \"Aa\" is not considered a palindrome here.\n",
        "\n",
        "\n",
        "```\n",
        "Input: s = \"abccccdd\"\n",
        "Output: 7\n",
        "Explanation: One longest palindrome that can be built is \"dccaccd\", whose length is 7.\n",
        "```\n",
        "\n"
      ],
      "metadata": {
        "id": "sP2mz19BZloc"
      }
    },
    {
      "cell_type": "code",
      "source": [
        "def longestPalindrome(s: str):\n",
        "    pairs = 0\n",
        "    unpaired_chars = set()\n",
        "    \n",
        "    for char in s:\n",
        "        if char in unpaired_chars:\n",
        "            pairs += 1\n",
        "            unpaired_chars.remove(char)\n",
        "        else:\n",
        "            unpaired_chars.add(char)\n",
        "    \n",
        "    return pairs * 2 + 1 if unpaired_chars else pairs * 2"
      ],
      "metadata": {
        "id": "MEvi5V2DZgFd"
      },
      "execution_count": null,
      "outputs": []
    },
    {
      "cell_type": "markdown",
      "source": [
        "## Day 6"
      ],
      "metadata": {
        "id": "LEfT5lJP_xwj"
      }
    },
    {
      "cell_type": "markdown",
      "source": [
        "Question 589. **N-ary Tree Preorder Traversal**\n",
        "\n",
        "Given the root of an n-ary tree, return the preorder traversal of its nodes' values.\n",
        "\n",
        "Nary-Tree input serialization is represented in their level order traversal. Each group of children is separated by the null value (See examples)\n",
        "\n",
        "\n",
        "```\n",
        "Input: root = [1,null,3,2,4,null,5,6]\n",
        "Output: [1,3,5,6,2,4]\n",
        "```\n",
        "\n",
        "\n",
        "\n"
      ],
      "metadata": {
        "id": "hJOQ9tZ3_22S"
      }
    },
    {
      "cell_type": "code",
      "source": [
        "def preorder(root: 'Node'):\n",
        "    if root is None:\n",
        "        return []\n",
        "    \n",
        "    stack, output = [root, ], []            \n",
        "    while stack:\n",
        "        root = stack.pop()\n",
        "        output.append(root.val)\n",
        "        stack.extend(root.children[::-1])\n",
        "            \n",
        "    return output"
      ],
      "metadata": {
        "id": "xffsYlCDZk5e"
      },
      "execution_count": null,
      "outputs": []
    },
    {
      "cell_type": "markdown",
      "source": [
        "Question 102. **Binary Tree Level Order Traversal**\n",
        "\n",
        "Given the root of a binary tree, return the level order traversal of its nodes' values. (i.e., from left to right, level by level).\n",
        "\n",
        "```\n",
        "Input: root = [3,9,20,null,null,15,7]\n",
        "Output: [[3],[9,20],[15,7]]\n",
        "```\n",
        "\n"
      ],
      "metadata": {
        "id": "QCw_c6CHAPwj"
      }
    },
    {
      "cell_type": "code",
      "source": [
        "def levelOrder(self, root: Optional[TreeNode]):\n",
        "    levels = []\n",
        "    if not root:\n",
        "        return levels\n",
        "    \n",
        "    def helper(node, level):\n",
        "        # start the current level\n",
        "        if len(levels) == level:\n",
        "            levels.append([])\n",
        "\n",
        "        # append the current node value\n",
        "        levels[level].append(node.val)\n",
        "\n",
        "        # process child nodes for the next level\n",
        "        if node.left:\n",
        "            helper(node.left, level + 1)\n",
        "        if node.right:\n",
        "            helper(node.right, level + 1)\n",
        "        \n",
        "    helper(root, 0)\n",
        "    return levels"
      ],
      "metadata": {
        "id": "VBVtC6YIAQRG"
      },
      "execution_count": null,
      "outputs": []
    },
    {
      "cell_type": "markdown",
      "source": [
        "## Day 7"
      ],
      "metadata": {
        "id": "ldCK3isnB8sO"
      }
    },
    {
      "cell_type": "markdown",
      "source": [
        "Question 704. **Binary Search**\n",
        "\n",
        "Given an array of integers nums which is sorted in ascending order, and an integer target, write a function to search target in nums. If target exists, then return its index. Otherwise, return -1.\n",
        "\n",
        "You must write an algorithm with **O(log n)** runtime complexity.\n",
        "\n",
        "\n",
        "```\n",
        "Input: nums = [-1,0,3,5,9,12], target = 9\n",
        "Output: 4\n",
        "Explanation: 9 exists in nums and its index is 4\n",
        "```\n",
        "\n"
      ],
      "metadata": {
        "id": "q_JFRx19EmsB"
      }
    },
    {
      "cell_type": "code",
      "source": [
        "def search(nums, target):\n",
        "    \"\"\"\n",
        "    :type nums: List[int]\n",
        "    :type target: int\n",
        "    :rtype: int\n",
        "    \"\"\"\n",
        "    l, r = 0, len(nums)-1\n",
        "    \n",
        "    while l <= r:\n",
        "        mid = (l + r) // 2\n",
        "        if nums[mid] < target:\n",
        "            l = mid + 1\n",
        "        elif nums[mid] > target:\n",
        "            r = mid - 1\n",
        "        else:\n",
        "            return mid\n",
        "    return -1\n",
        "    "
      ],
      "metadata": {
        "id": "aYB3tQ72CDJe"
      },
      "execution_count": 1,
      "outputs": []
    },
    {
      "cell_type": "markdown",
      "source": [
        "Question 278. **First Bad Version**\n",
        "\n",
        "You are a product manager and currently leading a team to develop a new product. Unfortunately, the latest version of your product fails the quality check. Since each version is developed based on the previous version, all the versions after a bad version are also bad.\n",
        "\n",
        "Suppose you have n versions [1, 2, ..., n] and you want to find out the first bad one, which causes all the following ones to be bad.\n",
        "\n",
        "You are given an API bool isBadVersion(version) which returns whether version is bad. Implement a function to find the first bad version. You should minimize the number of calls to the API.\n",
        "\n"
      ],
      "metadata": {
        "id": "fxqfuf8wIhPl"
      }
    },
    {
      "cell_type": "code",
      "source": [
        "def firstBadVersion( n: int):\n",
        "    left = 1\n",
        "    right = n\n",
        "    \n",
        "    while left < right:\n",
        "        mid = left + (right - left ) // 2\n",
        "        if isBadVersion(mid):\n",
        "            right = mid\n",
        "        else:\n",
        "            left = mid + 1\n",
        "            \n",
        "    return left"
      ],
      "metadata": {
        "id": "e-P_KQ4_E_hn"
      },
      "execution_count": null,
      "outputs": []
    },
    {
      "cell_type": "markdown",
      "source": [],
      "metadata": {
        "id": "1eIR6E-yJoNY"
      }
    }
  ]
}